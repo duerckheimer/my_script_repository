{
    "metadata": {
        "kernelspec": {
            "name": "SQL",
            "display_name": "SQL",
            "language": "sql"
        },
        "language_info": {
            "name": "sql",
            "version": ""
        }
    },
    "nbformat_minor": 2,
    "nbformat": 4,
    "cells": [
        {
            "cell_type": "markdown",
            "source": "# Run this script in order to setup your SQL Server according to Best-Practices from the community\r\nThe given values are just for demonstration and not the correct ones for! If you want to configure your own SQL Server with this notebook, please take a look into the given links to get more informations about how to calculate your own values...\r\n",
            "metadata": {}
        },
        {
            "cell_type": "markdown",
            "source": "### 1.) Setup the limit for maximal memory usage of that server\r\n\r\nhttp://sqlmax.chuvash.eu/",
            "metadata": {}
        },
        {
            "cell_type": "code",
            "source": "USE master\r\nGO\r\nEXEC sys.sp_configure N'show advanced options', N'1'  RECONFIGURE WITH OVERRIDE\r\nGO\r\nEXEC sys.sp_configure N'max server memory (MB)', N'4096'\r\nGO\r\nRECONFIGURE WITH OVERRIDE\r\nGO\r\nEXEC sys.sp_configure N'show advanced options', N'0'  RECONFIGURE WITH OVERRIDE\r\nGO",
            "metadata": {},
            "outputs": [
                {
                    "output_type": "display_data",
                    "data": {
                        "text/html": "Commands completed successfully."
                    },
                    "metadata": {}
                },
                {
                    "output_type": "display_data",
                    "data": {
                        "text/html": "Total execution time: 00:00:00.0017347"
                    },
                    "metadata": {}
                },
                {
                    "output_type": "display_data",
                    "data": {
                        "text/html": "Configuration option 'show advanced options' changed from 1 to 1. Run the RECONFIGURE statement to install."
                    },
                    "metadata": {}
                },
                {
                    "output_type": "display_data",
                    "data": {
                        "text/html": "Total execution time: 00:00:00.0232409"
                    },
                    "metadata": {}
                },
                {
                    "output_type": "display_data",
                    "data": {
                        "text/html": "Configuration option 'max server memory (MB)' changed from 2867 to 4096. Run the RECONFIGURE statement to install."
                    },
                    "metadata": {}
                },
                {
                    "output_type": "display_data",
                    "data": {
                        "text/html": "Total execution time: 00:00:00.0063227"
                    },
                    "metadata": {}
                },
                {
                    "output_type": "display_data",
                    "data": {
                        "text/html": "Commands completed successfully."
                    },
                    "metadata": {}
                },
                {
                    "output_type": "display_data",
                    "data": {
                        "text/html": "Total execution time: 00:00:00.0336446"
                    },
                    "metadata": {}
                },
                {
                    "output_type": "display_data",
                    "data": {
                        "text/html": "Configuration option 'show advanced options' changed from 1 to 0. Run the RECONFIGURE statement to install."
                    },
                    "metadata": {}
                },
                {
                    "output_type": "display_data",
                    "data": {
                        "text/html": "Total execution time: 00:00:00.1004998"
                    },
                    "metadata": {}
                }
            ],
            "execution_count": 1
        },
        {
            "cell_type": "markdown",
            "source": "### 2.) Setup \"Cost Threshold for Parallelism\" and \"Max. Degree of Parallelism\"\r\n\r\nhttps://blogs.msdn.microsoft.com/sqlsakthi/p/maxdop-calculator-sqlserver/",
            "metadata": {}
        },
        {
            "cell_type": "code",
            "source": "USE master\r\nGO\r\nEXEC sys.sp_configure N'show advanced options', N'1'  RECONFIGURE WITH OVERRIDE\r\nGO\r\nEXEC sys.sp_configure N'cost threshold for parallelism', N'40'\r\nGO\r\nEXEC sys.sp_configure N'max degree of parallelism', N'4'\r\nGO\r\nRECONFIGURE WITH OVERRIDE\r\n\r\nGO\r\nEXEC sys.sp_configure N'show advanced options', N'0'  RECONFIGURE WITH OVERRIDE\r\nGO",
            "metadata": {},
            "outputs": [
                {
                    "output_type": "display_data",
                    "data": {
                        "text/html": "Commands completed successfully."
                    },
                    "metadata": {}
                },
                {
                    "output_type": "display_data",
                    "data": {
                        "text/html": "Total execution time: 00:00:00.0008448"
                    },
                    "metadata": {}
                },
                {
                    "output_type": "display_data",
                    "data": {
                        "text/html": "Configuration option 'show advanced options' changed from 0 to 1. Run the RECONFIGURE statement to install."
                    },
                    "metadata": {}
                },
                {
                    "output_type": "display_data",
                    "data": {
                        "text/html": "Total execution time: 00:00:00.0461884"
                    },
                    "metadata": {}
                },
                {
                    "output_type": "display_data",
                    "data": {
                        "text/html": "Configuration option 'cost threshold for parallelism' changed from 40 to 40. Run the RECONFIGURE statement to install."
                    },
                    "metadata": {}
                },
                {
                    "output_type": "display_data",
                    "data": {
                        "text/html": "Total execution time: 00:00:00.0026788"
                    },
                    "metadata": {}
                },
                {
                    "output_type": "display_data",
                    "data": {
                        "text/html": "Configuration option 'max degree of parallelism' changed from 1 to 4. Run the RECONFIGURE statement to install."
                    },
                    "metadata": {}
                },
                {
                    "output_type": "display_data",
                    "data": {
                        "text/html": "Total execution time: 00:00:00.0054857"
                    },
                    "metadata": {}
                },
                {
                    "output_type": "display_data",
                    "data": {
                        "text/html": "Commands completed successfully."
                    },
                    "metadata": {}
                },
                {
                    "output_type": "display_data",
                    "data": {
                        "text/html": "Total execution time: 00:00:00.0476776"
                    },
                    "metadata": {}
                },
                {
                    "output_type": "display_data",
                    "data": {
                        "text/html": "Configuration option 'show advanced options' changed from 1 to 0. Run the RECONFIGURE statement to install."
                    },
                    "metadata": {}
                },
                {
                    "output_type": "display_data",
                    "data": {
                        "text/html": "Total execution time: 00:00:00.0442820"
                    },
                    "metadata": {}
                }
            ],
            "execution_count": 2
        },
        {
            "cell_type": "markdown",
            "source": "### 3.) Set \"Network Package Size\" to 8.192\r\n\r\nhttps://nitrosphere.com/wp-content/uploads/2016/08/Whitepaper_DBA-Tactics-SQL-Server-1.pdf",
            "metadata": {}
        },
        {
            "cell_type": "code",
            "source": "USE master\r\nGO\r\nEXEC sys.sp_configure N'show advanced options', N'1'  RECONFIGURE WITH OVERRIDE\r\nGO\r\nEXEC sys.sp_configure N'network packet size (B)', N'8192'\r\nGO\r\nRECONFIGURE WITH OVERRIDE\r\nGO\r\nEXEC sys.sp_configure N'show advanced options', N'0'  RECONFIGURE WITH OVERRIDE\r\nGO",
            "metadata": {},
            "outputs": [
                {
                    "output_type": "display_data",
                    "data": {
                        "text/html": "Commands completed successfully."
                    },
                    "metadata": {}
                },
                {
                    "output_type": "display_data",
                    "data": {
                        "text/html": "Total execution time: 00:00:00.0009280"
                    },
                    "metadata": {}
                },
                {
                    "output_type": "display_data",
                    "data": {
                        "text/html": "Configuration option 'show advanced options' changed from 0 to 1. Run the RECONFIGURE statement to install."
                    },
                    "metadata": {}
                },
                {
                    "output_type": "display_data",
                    "data": {
                        "text/html": "Total execution time: 00:00:00.0279911"
                    },
                    "metadata": {}
                },
                {
                    "output_type": "display_data",
                    "data": {
                        "text/html": "Configuration option 'network packet size (B)' changed from 4096 to 8192. Run the RECONFIGURE statement to install."
                    },
                    "metadata": {}
                },
                {
                    "output_type": "display_data",
                    "data": {
                        "text/html": "Total execution time: 00:00:00.0049042"
                    },
                    "metadata": {}
                },
                {
                    "output_type": "display_data",
                    "data": {
                        "text/html": "Commands completed successfully."
                    },
                    "metadata": {}
                },
                {
                    "output_type": "display_data",
                    "data": {
                        "text/html": "Total execution time: 00:00:00.0124378"
                    },
                    "metadata": {}
                },
                {
                    "output_type": "display_data",
                    "data": {
                        "text/html": "Configuration option 'show advanced options' changed from 1 to 0. Run the RECONFIGURE statement to install."
                    },
                    "metadata": {}
                },
                {
                    "output_type": "display_data",
                    "data": {
                        "text/html": "Total execution time: 00:00:00.0193555"
                    },
                    "metadata": {}
                }
            ],
            "execution_count": 3
        },
        {
            "cell_type": "markdown",
            "source": "### 4.) Enable \"optimize for adhoc workloads\"\r\n\r\nhttps://blog.sqlauthority.com/2017/10/20/sql-server-turn-optimize-ad-hoc-workloads/",
            "metadata": {}
        },
        {
            "cell_type": "code",
            "source": "Use master\r\nGO\r\nEXEC sys.sp_configure N'show advanced options', N'1'  RECONFIGURE WITH OVERRIDE\r\nGO\r\nEXEC sys.sp_configure N'optimize for ad hoc workloads', N'1'\r\nGO\r\nRECONFIGURE WITH OVERRIDE\r\nGO\r\nEXEC sys.sp_configure N'show advanced options', N'0'  RECONFIGURE WITH OVERRIDE\r\nGO",
            "metadata": {},
            "outputs": [
                {
                    "output_type": "display_data",
                    "data": {
                        "text/html": "Commands completed successfully."
                    },
                    "metadata": {}
                },
                {
                    "output_type": "display_data",
                    "data": {
                        "text/html": "Total execution time: 00:00:00.0013032"
                    },
                    "metadata": {}
                },
                {
                    "output_type": "display_data",
                    "data": {
                        "text/html": "Configuration option 'show advanced options' changed from 0 to 1. Run the RECONFIGURE statement to install."
                    },
                    "metadata": {}
                },
                {
                    "output_type": "display_data",
                    "data": {
                        "text/html": "Total execution time: 00:00:00.0456033"
                    },
                    "metadata": {}
                },
                {
                    "output_type": "display_data",
                    "data": {
                        "text/html": "Configuration option 'optimize for ad hoc workloads' changed from 0 to 1. Run the RECONFIGURE statement to install."
                    },
                    "metadata": {}
                },
                {
                    "output_type": "display_data",
                    "data": {
                        "text/html": "Total execution time: 00:00:00.0068011"
                    },
                    "metadata": {}
                },
                {
                    "output_type": "display_data",
                    "data": {
                        "text/html": "Commands completed successfully."
                    },
                    "metadata": {}
                },
                {
                    "output_type": "display_data",
                    "data": {
                        "text/html": "Total execution time: 00:00:00.0337451"
                    },
                    "metadata": {}
                },
                {
                    "output_type": "display_data",
                    "data": {
                        "text/html": "Configuration option 'show advanced options' changed from 1 to 0. Run the RECONFIGURE statement to install."
                    },
                    "metadata": {}
                },
                {
                    "output_type": "display_data",
                    "data": {
                        "text/html": "Total execution time: 00:00:00.0385545"
                    },
                    "metadata": {}
                }
            ],
            "execution_count": 4
        },
        {
            "cell_type": "markdown",
            "source": "### 5.) Enable \"Backup Compression\"\r\n\r\nhttps://www.brentozar.com/blitz/backup-compression/",
            "metadata": {}
        },
        {
            "cell_type": "code",
            "source": "USE master;\r\nGO\r\nEXEC sys.sp_configure N'backup compression default', N'1'\r\nGO\r\nRECONFIGURE WITH OVERRIDE\r\nGO",
            "metadata": {},
            "outputs": [
                {
                    "output_type": "display_data",
                    "data": {
                        "text/html": "Commands completed successfully."
                    },
                    "metadata": {}
                },
                {
                    "output_type": "display_data",
                    "data": {
                        "text/html": "Total execution time: 00:00:00.0011287"
                    },
                    "metadata": {}
                },
                {
                    "output_type": "display_data",
                    "data": {
                        "text/html": "Configuration option 'backup compression default' changed from 0 to 1. Run the RECONFIGURE statement to install."
                    },
                    "metadata": {}
                },
                {
                    "output_type": "display_data",
                    "data": {
                        "text/html": "Total execution time: 00:00:00.0063418"
                    },
                    "metadata": {}
                },
                {
                    "output_type": "display_data",
                    "data": {
                        "text/html": "Commands completed successfully."
                    },
                    "metadata": {}
                },
                {
                    "output_type": "display_data",
                    "data": {
                        "text/html": "Total execution time: 00:00:00.0118278"
                    },
                    "metadata": {}
                }
            ],
            "execution_count": 5
        },
        {
            "cell_type": "markdown",
            "source": "### 6.) Make sure that local System account is in sysadmin-group",
            "metadata": {}
        },
        {
            "cell_type": "code",
            "source": "ALTER SERVER ROLE [sysadmin] ADD MEMBER [NT AUTHORITY\\SYSTEM]\r\nGO",
            "metadata": {},
            "outputs": [
                {
                    "output_type": "display_data",
                    "data": {
                        "text/html": "Commands completed successfully."
                    },
                    "metadata": {}
                },
                {
                    "output_type": "display_data",
                    "data": {
                        "text/html": "Total execution time: 00:00:00.0054531"
                    },
                    "metadata": {}
                }
            ],
            "execution_count": 6
        },
        {
            "cell_type": "markdown",
            "source": "### 7.) Set number of Errorlogfiles to 15 and eventually create a \"rolling\" job to roll them on a regular base.",
            "metadata": {}
        },
        {
            "cell_type": "code",
            "source": "USE master\r\nGO\r\nEXEC xp_instance_regwrite N'HKEY_LOCAL_MACHINE', N'Software\\Microsoft\\MSSQLServer\\MSSQLServer', N'NumErrorLogs', REG_DWORD, 15\r\nGO",
            "metadata": {},
            "outputs": [
                {
                    "output_type": "display_data",
                    "data": {
                        "text/html": "Commands completed successfully."
                    },
                    "metadata": {}
                },
                {
                    "output_type": "display_data",
                    "data": {
                        "text/html": "Total execution time: 00:00:00.0011870"
                    },
                    "metadata": {}
                },
                {
                    "output_type": "display_data",
                    "data": {
                        "text/html": "(0 rows affected)"
                    },
                    "metadata": {}
                },
                {
                    "output_type": "display_data",
                    "data": {
                        "text/html": "Total execution time: 00:00:00.0110406"
                    },
                    "metadata": {}
                }
            ],
            "execution_count": 7
        }
    ]
}
